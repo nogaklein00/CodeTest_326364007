{
  "nbformat": 4,
  "nbformat_minor": 0,
  "metadata": {
    "colab": {
      "provenance": [],
      "authorship_tag": "ABX9TyPpYy+Pwcjjj8hTFN0quEfz",
      "include_colab_link": true
    },
    "kernelspec": {
      "name": "python3",
      "display_name": "Python 3"
    },
    "language_info": {
      "name": "python"
    }
  },
  "cells": [
    {
      "cell_type": "markdown",
      "metadata": {
        "id": "view-in-github",
        "colab_type": "text"
      },
      "source": [
        "<a href=\"https://colab.research.google.com/github/nogaklein00/CodeTest_326364007/blob/main/CodeForTest.ipynb\" target=\"_parent\"><img src=\"https://colab.research.google.com/assets/colab-badge.svg\" alt=\"Open In Colab\"/></a>"
      ]
    },
    {
      "cell_type": "code",
      "execution_count": null,
      "metadata": {
        "id": "YDp6Tf4h_Nss"
      },
      "outputs": [],
      "source": [
        "# Question 5\n",
        "\n",
        "import numpy as np\n",
        "from sklearn.cluster import KMeans\n",
        "from sklearn.ensemble import RandomForestClassifier\n",
        "from sklearn.metrics import accuracy_score\n",
        "from scipy.stats import mode\n",
        "\n",
        "X_all = np.vstack((X_labeled, X_unlabeled))\n",
        "\n",
        "# K-Means Clustering\n",
        "kmeans = KMeans(n_clusters=2, random_state=42)\n",
        "clusters = kmeans.fit_predict(X_all)\n",
        "\n",
        "# Assign Labels Based on Clusters\n",
        "cluster_labels = {}\n",
        "for cluster_id in range(2):\n",
        "    indices = np.where(clusters[:200] == cluster_id)[0] # Only labeled data\n",
        "    majority_label = mode(y_labeled[indices])[0][0] # Majority vote in the cluster\n",
        "    cluster_labels[cluster_id] = majority_label # Assign majority label to cluster\n",
        "\n",
        "pseudo_labels = np.array([cluster_labels[c] for c in clusters[200:]]) # Only for 800 unlabed samples\n",
        "\n",
        "# Train a New Classifier\n",
        "X_train = np.vstack((X_labeled, X_unlabeled))\n",
        "y_train = np.concatenate((y_labeled, pseudo_labels))\n",
        "\n",
        "model = RandomForestClassifier()\n",
        "model.fit(X_train, y_train)\n",
        "\n",
        "# Evaluate on the Test Set\n",
        "y_pred = model.predict(X_test)\n",
        "accuracy = accuracy_score(y_test, y_pred)\n",
        "print(f\"Test Accuracy: {accuracy:.4f}\")"
      ]
    },
    {
      "cell_type": "code",
      "source": [
        "# Question 6\n",
        "\n",
        "import numpy as np\n",
        "from sklearn.datasets import load_breast_cancer\n",
        "from sklearn.ensemble import RandomForestClassifier, GradientBoostingClassifier\n",
        "from sklearn.model_selection import train_test_split\n",
        "\n",
        "class ContinuousRandomForest:\n",
        "    def __init__(self, n_estimators_per_phase=50):\n",
        "        self.n_estimators = n_estimators_per_phase\n",
        "        self.phase1_model = RandomForestClassifier(n_estimators=n_estimators_per_phase, oob_score=True, random_state=42)\n",
        "        self.phase2_model = RandomForestClassifier(n_estimators=n_estimators_per_phase, oob_score=True, random_state=43)\n",
        "        self.is_phase2_trained = False\n",
        "\n",
        "    def fit_phase1(self, X, y):\n",
        "        self.phase1_model.fit(X, y)\n",
        "        return self.phase1_model.oob_score_\n",
        "\n",
        "    def continue_phase2(self, X, y):\n",
        "        self.phase2_model.fit(X, y)\n",
        "        self.is_phase2_trained = True\n",
        "        return self.get_combined_oob_score(X, y)\n",
        "\n",
        "    def predict_proba(self, X):\n",
        "        # Get predictions from phase 1\n",
        "        phase1_pred = self.phase1_model.predict_proba(X)\n",
        "\n",
        "        if self.is_phase2_trained:\n",
        "            # If phase 2 is trained, combine predictions from both phases\n",
        "            phase2_pred = self.phase2_model.predict_proba(X)\n",
        "            return (phase1_pred + phase2_pred) / 2\n",
        "        return phase1_pred\n",
        "\n",
        "    def get_combined_oob_score(self, X, y):\n",
        "        preds = self.predict_proba(X)\n",
        "        predictions = np.argmax(preds, axis=1)\n",
        "        return np.mean(predictions == y)\n",
        "\n",
        "data = load_breast_cancer()\n",
        "X, y = data.data, data.target\n",
        "X_train, X_test, y_train, y_test = train_test_split(X, y, test_size=0.2, random_state=42)\n",
        "\n",
        "rf_full = RandomForestClassifier(n_estimators=100, oob_score=True, random_state=42)\n",
        "rf_full.fit(X_train, y_train)\n",
        "gb_full = GradientBoostingClassifier(n_estimators=100, random_state=42, subsample=0.8)\n",
        "gb_full.fit(X_train, y_train)\n",
        "\n",
        "# Find most important features\n",
        "rf_importance = rf_full.feature_importances_\n",
        "gb_importance = gb_full.feature_importances_\n",
        "rf_top_feature = np.argmax(rf_importance)\n",
        "gb_top_feature = np.argmax(gb_importance)\n",
        "\n",
        "print(\"\\nMost Important Features:\")\n",
        "print(f\"Random Forest - Most Important Feature: {data.feature_names[rf_top_feature]}\")\n",
        "print(f\"Gradient Boosting - Most Important Feature: {data.feature_names[gb_top_feature]}\")\n",
        "\n",
        "# Prepare data for phase 1 (zero out important feature)\n",
        "X_train_phase1 = X_train.copy()\n",
        "X_train_phase1[:, rf_top_feature] = 0\n",
        "\n",
        "# Train continuous random forest\n",
        "cont_rf = ContinuousRandomForest(n_estimators_per_phase=50)\n",
        "rf_phase1_oob = cont_rf.fit_phase1(X_train_phase1, y_train)\n",
        "rf_phase2_oob = cont_rf.continue_phase2(X_train, y_train)\n",
        "\n",
        "# Train gradient boosting\n",
        "gb_model = GradientBoostingClassifier(n_estimators=50, random_state=42, subsample=0.8, warm_start=True)\n",
        "X_train_gb_phase1 = X_train.copy()\n",
        "X_train_gb_phase1[:, gb_top_feature] = 0\n",
        "gb_model.fit(X_train_gb_phase1, y_train)\n",
        "gb_phase1_oob_error = 1 - gb_model.train_score_[-1]\n",
        "\n",
        "gb_model.n_estimators = 100\n",
        "gb_model.fit(X_train, y_train)\n",
        "gb_phase2_oob_error = 1 - gb_model.train_score_[-1]\n",
        "\n",
        "print(\"\\nModel Performance:\")\n",
        "print(\"Random Forest:\")\n",
        "print(f\"Reference Full Model OOB Score: {rf_full.oob_score_:.4f}\")\n",
        "print(f\"Phase 1 (50 iterations, zeroed important feature) OOB Score: {rf_phase1_oob:.4f}\")\n",
        "print(f\"Phase 2 (100 iterations combined, restored feature) OOB Score: {rf_phase2_oob:.4f}\")\n",
        "\n",
        "print(\"\\nGradient Boosting:\")\n",
        "print(f\"Reference Full Model OOB Score: {1 - gb_full.train_score_[-1]:.4f}\")\n",
        "print(f\"Phase 1 (50 iterations, zeroed important feature) OOB-like Error: {gb_phase1_oob_error:.4f}\")\n",
        "print(f\"Final (100 iterations, restored feature) OOB-like Error: {gb_phase2_oob_error:.4f}\")"
      ],
      "metadata": {
        "colab": {
          "base_uri": "https://localhost:8080/"
        },
        "id": "zKPR6MEDGrR0",
        "outputId": "cd0efc37-b9b2-4401-a372-e0ef071d154f"
      },
      "execution_count": 64,
      "outputs": [
        {
          "output_type": "stream",
          "name": "stdout",
          "text": [
            "\n",
            "Most Important Features:\n",
            "Random Forest - Most Important Feature: worst area\n",
            "Gradient Boosting - Most Important Feature: worst concave points\n",
            "\n",
            "Model Performance:\n",
            "Random Forest:\n",
            "Reference Full Model OOB Score: 0.9560\n",
            "Phase 1 (50 iterations, zeroed important feature) OOB Score: 0.9626\n",
            "Phase 2 (100 iterations combined, restored feature) OOB Score: 1.0000\n",
            "\n",
            "Gradient Boosting:\n",
            "Reference Full Model OOB Score: 0.9933\n",
            "Phase 1 (50 iterations, zeroed important feature) OOB-like Error: 0.9601\n",
            "Final (100 iterations, restored feature) OOB-like Error: 0.9921\n"
          ]
        }
      ]
    }
  ]
}